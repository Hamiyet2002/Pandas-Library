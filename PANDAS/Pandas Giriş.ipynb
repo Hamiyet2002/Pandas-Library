{
 "cells": [
  {
   "cell_type": "code",
   "execution_count": 3,
   "id": "05505804",
   "metadata": {},
   "outputs": [],
   "source": [
    "#pandas have two structre : dataFrame and series\n",
    "#based on Numpy\n",
    "#Used for manipulating and analyzing data \n",
    "#Tabular data (DataFrame) or time series (Series) data\n",
    "#Short for PANel DAta – a term in econometrics for data sets that include observations over multiple time periods for the same individu"
   ]
  },
  {
   "cell_type": "code",
   "execution_count": 4,
   "id": "183d3d89",
   "metadata": {},
   "outputs": [],
   "source": [
    "import pandas as pd"
   ]
  },
  {
   "cell_type": "code",
   "execution_count": 5,
   "id": "46488de5",
   "metadata": {},
   "outputs": [],
   "source": [
    "x = pd.DataFrame({\"yes\":[10,20,30], \"no\":[40,50,60]})"
   ]
  },
  {
   "cell_type": "code",
   "execution_count": 6,
   "id": "a102ee6f",
   "metadata": {},
   "outputs": [
    {
     "data": {
      "text/html": [
       "<div>\n",
       "<style scoped>\n",
       "    .dataframe tbody tr th:only-of-type {\n",
       "        vertical-align: middle;\n",
       "    }\n",
       "\n",
       "    .dataframe tbody tr th {\n",
       "        vertical-align: top;\n",
       "    }\n",
       "\n",
       "    .dataframe thead th {\n",
       "        text-align: right;\n",
       "    }\n",
       "</style>\n",
       "<table border=\"1\" class=\"dataframe\">\n",
       "  <thead>\n",
       "    <tr style=\"text-align: right;\">\n",
       "      <th></th>\n",
       "      <th>yes</th>\n",
       "      <th>no</th>\n",
       "    </tr>\n",
       "  </thead>\n",
       "  <tbody>\n",
       "    <tr>\n",
       "      <th>0</th>\n",
       "      <td>10</td>\n",
       "      <td>40</td>\n",
       "    </tr>\n",
       "    <tr>\n",
       "      <th>1</th>\n",
       "      <td>20</td>\n",
       "      <td>50</td>\n",
       "    </tr>\n",
       "    <tr>\n",
       "      <th>2</th>\n",
       "      <td>30</td>\n",
       "      <td>60</td>\n",
       "    </tr>\n",
       "  </tbody>\n",
       "</table>\n",
       "</div>"
      ],
      "text/plain": [
       "   yes  no\n",
       "0   10  40\n",
       "1   20  50\n",
       "2   30  60"
      ]
     },
     "execution_count": 6,
     "metadata": {},
     "output_type": "execute_result"
    }
   ],
   "source": [
    "x"
   ]
  },
  {
   "cell_type": "code",
   "execution_count": 7,
   "id": "19973f6b",
   "metadata": {},
   "outputs": [],
   "source": [
    "# dict() with \"string\" keys and [list] values"
   ]
  },
  {
   "cell_type": "code",
   "execution_count": 8,
   "id": "c7805b22",
   "metadata": {},
   "outputs": [],
   "source": [
    "# can be any type , not only numeric but string list can be also stores"
   ]
  },
  {
   "cell_type": "code",
   "execution_count": 9,
   "id": "a5d04707",
   "metadata": {},
   "outputs": [
    {
     "data": {
      "text/html": [
       "<div>\n",
       "<style scoped>\n",
       "    .dataframe tbody tr th:only-of-type {\n",
       "        vertical-align: middle;\n",
       "    }\n",
       "\n",
       "    .dataframe tbody tr th {\n",
       "        vertical-align: top;\n",
       "    }\n",
       "\n",
       "    .dataframe thead th {\n",
       "        text-align: right;\n",
       "    }\n",
       "</style>\n",
       "<table border=\"1\" class=\"dataframe\">\n",
       "  <thead>\n",
       "    <tr style=\"text-align: right;\">\n",
       "      <th></th>\n",
       "      <th>bob</th>\n",
       "      <th>sue</th>\n",
       "    </tr>\n",
       "  </thead>\n",
       "  <tbody>\n",
       "    <tr>\n",
       "      <th>first</th>\n",
       "      <td>a</td>\n",
       "      <td>d</td>\n",
       "    </tr>\n",
       "    <tr>\n",
       "      <th>second</th>\n",
       "      <td>b</td>\n",
       "      <td>e</td>\n",
       "    </tr>\n",
       "    <tr>\n",
       "      <th>thirth</th>\n",
       "      <td>c</td>\n",
       "      <td>f</td>\n",
       "    </tr>\n",
       "  </tbody>\n",
       "</table>\n",
       "</div>"
      ],
      "text/plain": [
       "       bob sue\n",
       "first    a   d\n",
       "second   b   e\n",
       "thirth   c   f"
      ]
     },
     "execution_count": 9,
     "metadata": {},
     "output_type": "execute_result"
    }
   ],
   "source": [
    "pd.DataFrame({\"bob\":[\"a\",\"b\",\"c\"],\"sue\":[\"d\",\"e\",\"f\"]}, index = [\"first\",\"second\",\"thirth\"])"
   ]
  },
  {
   "cell_type": "code",
   "execution_count": 10,
   "id": "0d6db9f5",
   "metadata": {},
   "outputs": [
    {
     "data": {
      "image/png": "[encoded data removed]",
      "text/plain": [
       "<Figure size 640x480 with 1 Axes>"
      ]
     },
     "metadata": {},
     "output_type": "display_data"
    }
   ],
   "source": [
    "from scipy.stats import binom \n",
    "import matplotlib.pyplot as plt # setting the values # of n and p \n",
    "n = 16 \n",
    "p = 1/6 # defining list of r values \n",
    "r_values = list(range(n+1)) # list of pmf values \n",
    "dist = [binom.pmf(r, n, p) for r in r_values ] # plotting the graph plt.bar(r_values, dist, width=0.3)\n",
    "plt.bar(4,binom.pmf(4,16,1/6), width=0.3)\n",
    "plt.show()"
   ]
  },
  {
   "cell_type": "code",
   "execution_count": 11,
   "id": "4dbe39e2",
   "metadata": {},
   "outputs": [
    {
     "data": {
      "image/png": "[encoded data removed]",
      "text/plain": [
       "<Figure size 640x480 with 1 Axes>"
      ]
     },
     "metadata": {},
     "output_type": "display_data"
    }
   ],
   "source": [
    "from scipy.stats import binom \n",
    "import matplotlib.pyplot as plt # setting the values # of n and p \n",
    "n = 16 \n",
    "p = 1/6 # defining list of r values \n",
    "r_values = list(range(n + 1)) # list of pmf values \n",
    "dist = [binom.pmf(r, n, p) \n",
    "for r in r_values ] # plotting the graph plt.bar(r_values, dist, width=0.3)\n",
    "plt.bar(4,binom.pmf(4,16,1/6))\n",
    "plt.show()\n"
   ]
  },
  {
   "cell_type": "code",
   "execution_count": 12,
   "id": "815a551c",
   "metadata": {},
   "outputs": [
    {
     "data": {
      "image/png": "[encoded data removed]",
      "text/plain": [
       "<Figure size 600x400 with 1 Axes>"
      ]
     },
     "metadata": {},
     "output_type": "display_data"
    }
   ],
   "source": [
    "import numpy as np\n",
    "import matplotlib.pyplot as plt\n",
    "from scipy import stats\n",
    "#\n",
    "# Create a normal distribution with mean as 2 and standard deviation as 4\n",
    "#\n",
    "mu = 2\n",
    "std = 4\n",
    "snd = stats.norm(mu, std)\n",
    "#\n",
    "# Generate 100 random values between -25, 25\n",
    "#\n",
    "x = np.linspace(-25, 25, 100)\n",
    "#\n",
    "# Plot the standard normal distribution for different values of random variable\n",
    "# falling in the range 18, 25\n",
    "#\n",
    "plt.figure(figsize=(6,4))\n",
    "plt.plot(x, snd.pdf(x))\n",
    "plt.xlim(-25, 25)\n",
    "plt.title('Stndard Normal Distribution', fontsize='10')\n",
    "plt.xlabel('Values of Z', fontsize='10')\n",
    "plt.ylabel('Probability', fontsize='10')\n",
    "plt.show()"
   ]
  },
  {
   "cell_type": "markdown",
   "id": "95f9a9b7",
   "metadata": {},
   "source": [
    "# SERİES"
   ]
  },
  {
   "cell_type": "code",
   "execution_count": 13,
   "id": "930a49f7",
   "metadata": {},
   "outputs": [],
   "source": [
    "benimSozlugum = {\"Atil\" : 50, \"Zeynep\" : 40, \"Mehmet\" : 30}"
   ]
  },
  {
   "cell_type": "code",
   "execution_count": 14,
   "id": "2f3be278",
   "metadata": {},
   "outputs": [
    {
     "data": {
      "text/plain": [
       "Atil      50\n",
       "Zeynep    40\n",
       "Mehmet    30\n",
       "dtype: int64"
      ]
     },
     "execution_count": 14,
     "metadata": {},
     "output_type": "execute_result"
    }
   ],
   "source": [
    "pd.Series(benimSozlugum)"
   ]
  },
  {
   "cell_type": "code",
   "execution_count": 15,
   "id": "fa7174fc",
   "metadata": {},
   "outputs": [],
   "source": [
    "benimYaslarim = [50,40,30]\n",
    "benimIsimlerim = [\"Atil\", \"Zeynep\", \"Mehmet\"]"
   ]
  },
  {
   "cell_type": "code",
   "execution_count": 16,
   "id": "47ea73f0",
   "metadata": {},
   "outputs": [
    {
     "data": {
      "text/plain": [
       "0    50\n",
       "1    40\n",
       "2    30\n",
       "dtype: int64"
      ]
     },
     "execution_count": 16,
     "metadata": {},
     "output_type": "execute_result"
    }
   ],
   "source": [
    "pd.Series(benimYaslarim)"
   ]
  },
  {
   "cell_type": "code",
   "execution_count": 17,
   "id": "063d4574",
   "metadata": {},
   "outputs": [
    {
     "data": {
      "text/plain": [
       "Atil      50\n",
       "Zeynep    40\n",
       "Mehmet    30\n",
       "dtype: int64"
      ]
     },
     "execution_count": 17,
     "metadata": {},
     "output_type": "execute_result"
    }
   ],
   "source": [
    "pd.Series(benimYaslarim, benimIsimlerim)"
   ]
  },
  {
   "cell_type": "code",
   "execution_count": 18,
   "id": "9f50b462",
   "metadata": {},
   "outputs": [
    {
     "data": {
      "text/plain": [
       "Atil      50\n",
       "Zeynep    40\n",
       "Mehmet    30\n",
       "dtype: int64"
      ]
     },
     "execution_count": 18,
     "metadata": {},
     "output_type": "execute_result"
    }
   ],
   "source": [
    "pd.Series(data=benimYaslarim, index=benimIsimlerim)"
   ]
  },
  {
   "cell_type": "code",
   "execution_count": 19,
   "id": "31a78714",
   "metadata": {},
   "outputs": [],
   "source": [
    "numpyDizisi = np.array([50,40,30])"
   ]
  },
  {
   "cell_type": "code",
   "execution_count": 20,
   "id": "6db7dd64",
   "metadata": {},
   "outputs": [
    {
     "data": {
      "text/plain": [
       "array([50, 40, 30])"
      ]
     },
     "execution_count": 20,
     "metadata": {},
     "output_type": "execute_result"
    }
   ],
   "source": [
    "numpyDizisi"
   ]
  },
  {
   "cell_type": "code",
   "execution_count": 21,
   "id": "2fd94375",
   "metadata": {},
   "outputs": [
    {
     "data": {
      "text/plain": [
       "0    50\n",
       "1    40\n",
       "2    30\n",
       "dtype: int32"
      ]
     },
     "execution_count": 21,
     "metadata": {},
     "output_type": "execute_result"
    }
   ],
   "source": [
    "pd.Series(numpyDizisi)"
   ]
  },
  {
   "cell_type": "code",
   "execution_count": 22,
   "id": "3db6fab2",
   "metadata": {},
   "outputs": [
    {
     "data": {
      "text/plain": [
       "Atil      50\n",
       "Zeynep    40\n",
       "Mehmet    30\n",
       "dtype: int32"
      ]
     },
     "execution_count": 22,
     "metadata": {},
     "output_type": "execute_result"
    }
   ],
   "source": [
    "pd.Series(numpyDizisi,benimIsimlerim)"
   ]
  },
  {
   "cell_type": "code",
   "execution_count": 23,
   "id": "28709dcb",
   "metadata": {},
   "outputs": [
    {
     "data": {
      "text/plain": [
       "1     Atil\n",
       "2    Atlas\n",
       "3    Osman\n",
       "dtype: object"
      ]
     },
     "execution_count": 23,
     "metadata": {},
     "output_type": "execute_result"
    }
   ],
   "source": [
    "pd.Series([\"Atil\",\"Atlas\",\"Osman\"],[1,2,3])\n"
   ]
  },
  {
   "cell_type": "code",
   "execution_count": 24,
   "id": "33e354ca",
   "metadata": {},
   "outputs": [],
   "source": [
    "yarismaSonucu1 = pd.Series([10,5,1],[\"Atil\",\"Atlas\",\"Osman\"])"
   ]
  },
  {
   "cell_type": "code",
   "execution_count": 25,
   "id": "dd0bad7a",
   "metadata": {},
   "outputs": [
    {
     "data": {
      "text/plain": [
       "Atil     10\n",
       "Atlas     5\n",
       "Osman     1\n",
       "dtype: int64"
      ]
     },
     "execution_count": 25,
     "metadata": {},
     "output_type": "execute_result"
    }
   ],
   "source": [
    "yarismaSonucu1"
   ]
  },
  {
   "cell_type": "code",
   "execution_count": 26,
   "id": "9129bc56",
   "metadata": {},
   "outputs": [],
   "source": [
    "yarismaSonucu2 = pd.Series([20,10,8],[\"Atil\",\"Atlas\",\"Osman\"])"
   ]
  },
  {
   "cell_type": "code",
   "execution_count": 27,
   "id": "9298d012",
   "metadata": {},
   "outputs": [
    {
     "data": {
      "text/plain": [
       "Atil     20\n",
       "Atlas    10\n",
       "Osman     8\n",
       "dtype: int64"
      ]
     },
     "execution_count": 27,
     "metadata": {},
     "output_type": "execute_result"
    }
   ],
   "source": [
    "yarismaSonucu2"
   ]
  },
  {
   "cell_type": "code",
   "execution_count": 28,
   "id": "0be7c16c",
   "metadata": {},
   "outputs": [
    {
     "data": {
      "text/plain": [
       "10"
      ]
     },
     "execution_count": 28,
     "metadata": {},
     "output_type": "execute_result"
    }
   ],
   "source": [
    "yarismaSonucu2[\"Atlas\"]"
   ]
  },
  {
   "cell_type": "code",
   "execution_count": 29,
   "id": "d5559891",
   "metadata": {},
   "outputs": [],
   "source": [
    "sonSonuc = yarismaSonucu1 + yarismaSonucu2"
   ]
  },
  {
   "cell_type": "code",
   "execution_count": 30,
   "id": "89edd324",
   "metadata": {},
   "outputs": [
    {
     "data": {
      "text/plain": [
       "Atil     30\n",
       "Atlas    15\n",
       "Osman     9\n",
       "dtype: int64"
      ]
     },
     "execution_count": 30,
     "metadata": {},
     "output_type": "execute_result"
    }
   ],
   "source": [
    "sonSonuc"
   ]
  },
  {
   "cell_type": "code",
   "execution_count": 31,
   "id": "1596c827",
   "metadata": {},
   "outputs": [],
   "source": [
    "farkliSeries = pd.Series([20,30,40,50],[\"a\",\"b\",\"c\",\"d\"])"
   ]
  },
  {
   "cell_type": "code",
   "execution_count": 32,
   "id": "ea0899aa",
   "metadata": {},
   "outputs": [],
   "source": [
    "farkliSeries2 = pd.Series([10,5,3,1],[\"a\",\"c\",\"f\",\"g\"])"
   ]
  },
  {
   "cell_type": "code",
   "execution_count": 33,
   "id": "86c2f32f",
   "metadata": {},
   "outputs": [
    {
     "data": {
      "text/plain": [
       "a    20\n",
       "b    30\n",
       "c    40\n",
       "d    50\n",
       "dtype: int64"
      ]
     },
     "execution_count": 33,
     "metadata": {},
     "output_type": "execute_result"
    }
   ],
   "source": [
    "\n",
    "farkliSeries"
   ]
  },
  {
   "cell_type": "code",
   "execution_count": 34,
   "id": "37f86b81",
   "metadata": {},
   "outputs": [
    {
     "data": {
      "text/plain": [
       "a    10\n",
       "c     5\n",
       "f     3\n",
       "g     1\n",
       "dtype: int64"
      ]
     },
     "execution_count": 34,
     "metadata": {},
     "output_type": "execute_result"
    }
   ],
   "source": [
    "farkliSeries2"
   ]
  },
  {
   "cell_type": "code",
   "execution_count": 35,
   "id": "c0c81752",
   "metadata": {},
   "outputs": [
    {
     "data": {
      "text/plain": [
       "a    30.0\n",
       "b     NaN\n",
       "c    45.0\n",
       "d     NaN\n",
       "f     NaN\n",
       "g     NaN\n",
       "dtype: float64"
      ]
     },
     "execution_count": 35,
     "metadata": {},
     "output_type": "execute_result"
    }
   ],
   "source": [
    "farkliSeries + farkliSeries2"
   ]
  },
  {
   "cell_type": "code",
   "execution_count": null,
   "id": "b87ce03a",
   "metadata": {},
   "outputs": [],
   "source": []
  }
 ],
 "metadata": {
  "kernelspec": {
   "display_name": "Python 3 (ipykernel)",
   "language": "python",
   "name": "python3"
  },
  "language_info": {
   "codemirror_mode": {
    "name": "ipython",
    "version": 3
   },
   "file_extension": ".py",
   "mimetype": "text/x-python",
   "name": "python",
   "nbconvert_exporter": "python",
   "pygments_lexer": "ipython3",
   "version": "3.10.9"
  }
 },
 "nbformat": 4,
 "nbformat_minor": 5
}
